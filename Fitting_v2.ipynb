{
 "cells": [
  {
   "cell_type": "markdown",
   "metadata": {},
   "source": []
  },
  {
   "cell_type": "code",
   "execution_count": 48,
   "metadata": {},
   "outputs": [],
   "source": [
    "import random\n",
    "import math\n",
    "import matplotlib.pyplot as plt\n",
    "import numpy as np\n",
    "from scipy.stats import poisson\n",
    "from scipy.stats import norm"
   ]
  },
  {
   "cell_type": "code",
   "execution_count": 49,
   "metadata": {},
   "outputs": [],
   "source": [
    "def plot_func(func, x=np.linspace(0,5,3001), logscale=False, ylim=[], xlabel='', ylabel=''):\n",
    "    y = np.vectorize(func)(x)\n",
    "    plt.figure(figsize=(5,5))\n",
    "    axes = plt.gca()\n",
    "    if logscale: axes.set_yscale('log')\n",
    "    if len(ylim) == 2: axes.set_ylim(ylim)\n",
    "    if xlabel: axes.set_xlabel(xlabel)\n",
    "    if ylabel: axes.set_ylabel(ylabel)\n",
    "    plt.title(func.__name__)\n",
    "    plt.plot(x,y)\n",
    "    plt.show()"
   ]
  },
  {
   "cell_type": "code",
   "execution_count": 82,
   "metadata": {},
   "outputs": [],
   "source": [
    "# Useful functions\n",
    "\n",
    "def factorial(x):\n",
    "    if x == 0:\n",
    "        return 1\n",
    "    elif x > 0:\n",
    "        for i in range(1,int(x)):\n",
    "            x = x * i\n",
    "        return x\n",
    "    \n",
    "# generate n, m based on inverse CDF of poisson distribution\n",
    "# CDF gives you the p-value (CL) for a given value of the variable\n",
    "# inverse of CDF gives you a value of the variable based on the p-value (0<p<1)\n",
    "# This is why we use random.uniform(0,1) for the p-value\n",
    "# nexpec, mexpec are the expected values of the poisson \n",
    "# (the expected rate where the variable is a function of time, as is common for poisson)\n",
    "\n",
    "# see https://en.wikipedia.org/wiki/Poisson_distribution             for general poisson info\n",
    "# see https://en.wikipedia.org/wiki/Cumulative_distribution_function for the CDF\n",
    "# see https://en.wikipedia.org/wiki/Inverse_transform_sampling       for the method\n",
    "# see https://www.kite.com/python/docs/scipy.stats.poisson           for documentation\n",
    "\n",
    "def generate_nm(nexpec,mexpec,numev):\n",
    "    ngen = [poisson.ppf(random.uniform(0,1),nexpec) for i in range(0,numev)]\n",
    "    mgen = [poisson.ppf(random.uniform(0,1),mexpec) for i in range(0,numev)]\n",
    "    return [ngen, mgen]\n"
   ]
  },
  {
   "cell_type": "code",
   "execution_count": 83,
   "metadata": {},
   "outputs": [],
   "source": [
    "# Maximum Likelihood estimators for single bin\n",
    "# tau, mu, s are input parameters and not included here\n",
    "def mu_max(n,m,s,b,tau,mu): # for maximizing functions of 2 vars, b and mu in denominator of LLR\n",
    "    return (n - m/tau)/s\n",
    "def b_max(n,m,s,b,tau,mu): #for maximizing fucntions of 2 vars, b and mu in denominator of LLR\n",
    "    return m/tau\n",
    "def b_max1(n,m,s,b,tau,mu): #maximize fxn of 1 var, b, in numerator of LLR--NOTE THAT IT IS A FXN OF mu\n",
    "    return (n+m-(1+tau)*mu*s)/(2*(1+tau)) + ( ((n+m-(1+tau)*mu*s)**2+4*(1+tau)*m*mu*s) * 0.25/(1+tau)**2 )**0.5\n"
   ]
  },
  {
   "cell_type": "code",
   "execution_count": 84,
   "metadata": {},
   "outputs": [],
   "source": [
    "def likelihood(n,m,s,b,tau,mu): # s and tau are the only constants \n",
    "    return (mu*s+b)**n / (factorial(n)) * math.exp(-(mu*s+b)) * (tau*b)**m / factorial(m) * math.exp(-tau*b)\n",
    "\n",
    "def LLR(n,m,s,b,tau,mu):\n",
    "    return likelihood(n,m,s,b_max1(n,m,s,b,tau,mu),tau,mu)/(likelihood(n,m,s,b_max(n,m,s,b,tau,mu),tau,mu_max(n,m,s,b,tau,mu)))\n",
    "\n",
    "\n",
    "def q0(n,m,s,b,tau):\n",
    "    # mu = 0\n",
    "    if mu_max(n,m,s,b,tau,0) > 0:\n",
    "        return -2*math.log(LLR(n,m,s,b,tau,0))\n",
    "    else:\n",
    "        return 0\n",
    "\n",
    "    # Expected # of events\n",
    "def En(s,b,mu):\n",
    "    return mu*s+b\n",
    "def Em(b,tau):\n",
    "    return tau*b\n",
    "#print(f\"En: {En} Em: {Em}\")\n"
   ]
  },
  {
   "cell_type": "code",
   "execution_count": 97,
   "metadata": {},
   "outputs": [],
   "source": [
    "def sigma(s,b,tau,mup):\n",
    "    return math.sqrt(mup**2/q0(En(s,b,mup),Em(b,tau),s,b,tau))\n",
    "\n",
    "\n",
    "def PDFQ0(s,b,tau,mup,q0d):\n",
    "#    return np.exp(-q0*0.5)*(2*math.sqrt(2*math.pi*q0))**-1\n",
    "    if q0d <= 0:\n",
    "        return None\n",
    "    if mup == 0:\n",
    "        return np.exp(-q0d*0.5)*(2*math.sqrt(2*math.pi*q0d))**-1\n",
    "    else:\n",
    "        return np.exp(-0.5*(q0d**0.5-mup/sigma(s,b,tau,mup))**2)*0.5/math.sqrt(2*math.pi*q0d)"
   ]
  },
  {
   "cell_type": "code",
   "execution_count": 86,
   "metadata": {},
   "outputs": [
    {
     "data": {
      "text/plain": [
       "0.5424872603903432"
      ]
     },
     "execution_count": 86,
     "metadata": {},
     "output_type": "execute_result"
    }
   ],
   "source": [
    "sigma(10,10,1,1)"
   ]
  },
  {
   "cell_type": "code",
   "execution_count": 105,
   "metadata": {},
   "outputs": [
    {
     "data": {
      "image/png": "[encoded data removed]",
      "text/plain": [
       "<Figure size 360x360 with 1 Axes>"
      ]
     },
     "metadata": {
      "needs_background": "light"
     },
     "output_type": "display_data"
    }
   ],
   "source": [
    "s = 10\n",
    "b = 10\n",
    "tau = 1\n",
    "mup = 1\n",
    "q0d = np.linspace(0,40,30001)\n",
    "numevents = 5000000\n",
    "\n",
    "# choose n and m such that mu hat = 1\n",
    "# calculate q0 values for all n,m, that satisfy\n",
    "# q\n",
    "\n",
    "y = np.vectorize(PDFQ0)(s,b,tau,mup,q0d)\n",
    "\n",
    "plt.figure(figsize=(5,5))\n",
    "axes = plt.gca()\n",
    "logscale: axes.set_yscale('log')\n",
    "axes.set_ylim(10e-9,1)\n",
    "axes.set_xlim(0,40)\n",
    "axes.set_xlabel('q0')\n",
    "axes.set_ylabel('f(q0|mup)')\n",
    "plt.title('PDFQ0')\n",
    "plt.plot(q0d,y)\n",
    "\n",
    "q0s = []\n",
    "nm = generate_nm(En(s,b,mup),Em(b,tau),numevents)\n",
    "for evindex in range(numevents):\n",
    "    q0val = q0(nm[0][evindex],nm[1][evindex],s,b,tau)\n",
    "    if q0val != 0:\n",
    "        q0s.append(q0val)\n",
    "plt.hist(q0s,bins=24,range=(0,40),density=True,histtype='step')\n",
    "\n",
    "num_events = 10000000\n",
    "\n",
    "mup = 0\n",
    "y = np.vectorize(PDFQ0)(s,b,tau,mup,q0d)\n",
    "plt.plot(q0d,y)\n",
    "\n",
    "q0s = []\n",
    "nm = generate_nm(En(s,b,mup),Em(b,tau),numevents)\n",
    "for evindex in range(numevents):\n",
    "    q0val = q0(nm[0][evindex],nm[1][evindex],s,b,tau)\n",
    "    if q0val != 0:\n",
    "        q0s.append(q0val)\n",
    "plt.hist(q0s,bins=24,range=(0,40),density=True,histtype='step')\n",
    "\n",
    "\n",
    "plt.show()"
   ]
  },
  {
   "cell_type": "code",
   "execution_count": 100,
   "metadata": {},
   "outputs": [
    {
     "data": {
      "text/plain": [
       "[<matplotlib.lines.Line2D at 0x7fb0b375bd50>]"
      ]
     },
     "execution_count": 100,
     "metadata": {},
     "output_type": "execute_result"
    },
    {
     "data": {
      "image/png": "[encoded data removed]",
      "text/plain": [
       "<Figure size 360x360 with 1 Axes>"
      ]
     },
     "metadata": {
      "needs_background": "light"
     },
     "output_type": "display_data"
    }
   ],
   "source": [
    "mup = 0\n",
    "plt.figure(figsize=(5,5))\n",
    "axes = plt.gca()\n",
    "logscale: axes.set_yscale('log')\n",
    "axes.set_ylim(10e-9,1)\n",
    "axes.set_xlim(0,40)\n",
    "axes.set_xlabel('q0')\n",
    "axes.set_ylabel('f(q0|mup=0)')\n",
    "plt.title('PDFQ0')\n",
    "plt.plot(q0d,y)\n",
    "y = np.vectorize(PDFQ0)(s,b,tau,mup,q0d)\n",
    "plt.plot(q0d,y)"
   ]
  },
  {
   "cell_type": "code",
   "execution_count": null,
   "metadata": {},
   "outputs": [],
   "source": []
  }
 ],
 "metadata": {
  "kernelspec": {
   "display_name": "Python [conda env:root] *",
   "language": "python",
   "name": "conda-root-py"
  },
  "language_info": {
   "codemirror_mode": {
    "name": "ipython",
    "version": 3
   },
   "file_extension": ".py",
   "mimetype": "text/x-python",
   "name": "python",
   "nbconvert_exporter": "python",
   "pygments_lexer": "ipython3",
   "version": "3.7.7"
  }
 },
 "nbformat": 4,
 "nbformat_minor": 4
}
