{
 "cells": [
  {
   "cell_type": "code",
   "execution_count": null,
   "metadata": {},
   "outputs": [],
   "source": [
    "# based on section 5 of https://arxiv.org/pdf/1007.1727.pdf"
   ]
  },
  {
   "cell_type": "code",
   "execution_count": 130,
   "metadata": {},
   "outputs": [],
   "source": [
    "import random\n",
    "import math\n",
    "import matplotlib.pyplot as plt\n",
    "import numpy as np\n",
    "from scipy.stats import poisson\n",
    "import seaborn as seb"
   ]
  },
  {
   "cell_type": "code",
   "execution_count": 131,
   "metadata": {},
   "outputs": [],
   "source": [
    "# Plotting function\n",
    "\n",
    "def plot_func(func, x=np.linspace(0,5,3001), logscale=False, ylim=[], xlabel='', ylabel=''):\n",
    "    y = np.vectorize(func)(x)\n",
    "    axes = plt.gca()\n",
    "    if logscale: axes.set_yscale('log')\n",
    "    if len(ylim) == 2: axes.set_ylim(ylim)\n",
    "    if xlabel: axes.set_xlabel(xlabel)\n",
    "    if ylabel: axes.set_ylabel(ylabel)\n",
    "    plt.title(func.__name__)\n",
    "    plt.plot(x,y)\n",
    "    plt.show()"
   ]
  },
  {
   "cell_type": "code",
   "execution_count": 227,
   "metadata": {},
   "outputs": [],
   "source": [
    "# Useful functions\n",
    "\n",
    "def factorial(x):\n",
    "    if x == 0:\n",
    "        return 1\n",
    "    elif x > 0:\n",
    "        for i in range(1,int(x)):\n",
    "            x = x * i\n",
    "        return x"
   ]
  },
  {
   "cell_type": "code",
   "execution_count": 220,
   "metadata": {},
   "outputs": [],
   "source": [
    "# Figure 3a pdf, f(q0|0)\n",
    "def PDFQ0(q0):\n",
    "    if q0 < 1e-10: q0 = 1e-10\n",
    "    else:\n",
    "        return np.exp(-q0*0.5)*(2*math.sqrt(2*math.pi*q0))**-1"
   ]
  },
  {
   "cell_type": "code",
   "execution_count": 221,
   "metadata": {},
   "outputs": [
    {
     "data": {
      "image/png": "[encoded data removed]",
      "text/plain": [
       "<Figure size 432x288 with 1 Axes>"
      ]
     },
     "metadata": {
      "needs_background": "light"
     },
     "output_type": "display_data"
    }
   ],
   "source": [
    "plot_func(PDFQ0, x=np.linspace(0,40,3001), logscale=True, ylim=[10**-8,10], xlabel='q0', ylabel='f(q0|0)')"
   ]
  },
  {
   "cell_type": "code",
   "execution_count": 326,
   "metadata": {},
   "outputs": [],
   "source": [
    "# monte carlo for figure 3a: \n",
    "# 1) need to generate n, m based on inverse CDF of poisson distribution with expected values E[n], E[m]\n",
    "# 2) compute q0 values then plot the histogram of q0 values and then normalize it\n",
    "# Note: 24 bins from 0 to 40"
   ]
  },
  {
   "cell_type": "code",
   "execution_count": 322,
   "metadata": {},
   "outputs": [],
   "source": [
    "# generate n, m based on inverse CDF of poisson distribution\n",
    "\n",
    "def generate_nm(nexpec,mexpec,numev):\n",
    "    ngen = [poisson.ppf(random.uniform(0,1),nexpec) for i in range(0,numev)]\n",
    "    mgen = [poisson.ppf(random.uniform(0,1),mexpec) for i in range(0,numev)]\n",
    "    return [ngen, mgen]\n"
   ]
  },
  {
   "cell_type": "code",
   "execution_count": 323,
   "metadata": {},
   "outputs": [],
   "source": [
    "# Maximum Likelihood estimators for single bin\n",
    "# tau, mu, s are input parameters and not included here\n",
    "def mu_max(n,m): # for maximizing functions of 2 vars, b and mu in denominator of LLR\n",
    "    return (n - m*tau**-1)*s**-1\n",
    "def b_max(m): #for maximizing fucntions of 2 vars, b and mu in denominator of LLR\n",
    "    return m*tau**-1\n",
    "def b_max1(n,m): #maximize fxn of 1 var, b, in numerator of LLR\n",
    "    return (n+m-(1+tau)*mu*s)*(2*(1+tau))**-1 + ( ((n+m-(1+tau)*mu*s)**2+4*(1+tau)*m*mu*s) * 0.25*(1+tau)**-2 )**0.5\n"
   ]
  },
  {
   "cell_type": "code",
   "execution_count": 324,
   "metadata": {},
   "outputs": [],
   "source": [
    "# test statistics for single bin\n",
    "\n",
    "\n",
    "def likelihood(mu,b,n,m): # s and tau are the only constants \n",
    "    return (mu*s+b)**n * (factorial(n))**-1 * math.exp(-(mu*s+b)) * (tau*b)**m * factorial(m)**-1 * math.exp(-tau*b)\n",
    "\n",
    "def LLR(mu,n,m):\n",
    "    return likelihood(mu,b_max1(n,m),n,m)*(likelihood(mu_max(n,m),b_max(m),n,m))**-1\n",
    "\n",
    "\n",
    "def q0(n,m):\n",
    "    if mu_max(n,m) > 0:\n",
    "        return -2*math.log(LLR(0,n,m))\n",
    "    else:\n",
    "        return None"
   ]
  },
  {
   "cell_type": "code",
   "execution_count": 346,
   "metadata": {},
   "outputs": [
    {
     "data": {
      "text/plain": [
       "<function matplotlib.pyplot.show(*args, **kw)>"
      ]
     },
     "execution_count": 346,
     "metadata": {},
     "output_type": "execute_result"
    },
    {
     "data": {
      "image/png": "[encoded data removed]",
      "text/plain": [
       "<Figure size 432x288 with 1 Axes>"
      ]
     },
     "metadata": {
      "needs_background": "light"
     },
     "output_type": "display_data"
    }
   ],
   "source": [
    "# Create and plot histogram\n",
    "\n",
    "\n",
    "# input parameters\n",
    "s = 10\n",
    "b = [2, 5, 20]\n",
    "tau = 1\n",
    "mu = 0\n",
    "numevents = 300000\n",
    "\n",
    "# Expected # of events\n",
    "def En(b):\n",
    "    return mu*s+b\n",
    "def Em(b):\n",
    "    return tau*b\n",
    "#print(f\"En: {En} Em: {Em}\")\n",
    "\n",
    "\n",
    "\n",
    "axes = plt.gca()\n",
    "axes.set_yscale('log')\n",
    "axes.set_ylim(10**-8, 10)\n",
    "axes.set_xlabel('q0')\n",
    "axes.set_ylabel('f(q0|0)')\n",
    "\n",
    "x = np.linspace(0,40,40000)\n",
    "pdfs = np.vectorize(PDFQ0)(x)\n",
    "plt.plot(x,pdfs)\n",
    "\n",
    "\n",
    "\n",
    "for bval in b:\n",
    "    q0s = []\n",
    "    nm = generate_nm(En(bval),Em(bval),numevents)\n",
    "    for evindex in range(numevents):\n",
    "        q0val = q0(nm[0][evindex],nm[1][evindex])\n",
    "        if q0val is not None:\n",
    "            q0s.append(q0val)\n",
    "    plt.hist(q0s,bins=24,range=(0,40),density=True,histtype='step')\n",
    "\n",
    "plt.show"
   ]
  },
  {
   "cell_type": "code",
   "execution_count": null,
   "metadata": {},
   "outputs": [],
   "source": [
    "# matplotlib color cycle: https://matplotlib.org/3.3.0/users/dflt_style_changes.html\n",
    "# blue (PDF)\n",
    "# orange (b=2)\n",
    "# green (b=5)\n",
    "# red (b=20)"
   ]
  }
 ],
 "metadata": {
  "kernelspec": {
   "display_name": "Python 3",
   "language": "python",
   "name": "python3"
  },
  "language_info": {
   "codemirror_mode": {
    "name": "ipython",
    "version": 3
   },
   "file_extension": ".py",
   "mimetype": "text/x-python",
   "name": "python",
   "nbconvert_exporter": "python",
   "pygments_lexer": "ipython3",
   "version": "3.7.6"
  }
 },
 "nbformat": 4,
 "nbformat_minor": 4
}
